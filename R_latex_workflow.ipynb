{
  "nbformat": 4,
  "nbformat_minor": 0,
  "metadata": {
    "colab": {
      "provenance": [],
      "authorship_tag": "ABX9TyOy95Zicf0FsjWMYDfxgjdf",
      "include_colab_link": true
    },
    "kernelspec": {
      "name": "ir",
      "display_name": "R"
    },
    "language_info": {
      "name": "R"
    }
  },
  "cells": [
    {
      "cell_type": "markdown",
      "metadata": {
        "id": "view-in-github",
        "colab_type": "text"
      },
      "source": [
        "<a href=\"https://colab.research.google.com/github/peterhgruber/writing-latex/blob/main/R_latex_workflow.ipynb\" target=\"_parent\"><img src=\"https://colab.research.google.com/assets/colab-badge.svg\" alt=\"Open In Colab\"/></a>"
      ]
    },
    {
      "cell_type": "markdown",
      "source": [
        "# Better and Faster Academic Writing with LaTeX and ChatGPT\n",
        "\n",
        "peter.gruber@usi.ch, 2025-04\n",
        "\n",
        "* Sample code for research worklfow with R\n"
      ],
      "metadata": {
        "id": "nwUKkJwrCCHa"
      }
    },
    {
      "cell_type": "code",
      "source": [
        "# Install if necessary\n",
        "# install.packages(\"stargazer\")\n",
        "# install.packages(\"texreg\")\n",
        "\n",
        "# Read data\n",
        "urlfile<-'https://raw.githubusercontent.com/peterhgruber/writing-latex/refs/heads/main/student.csv'\n",
        "grade<-read.csv(urlfile)\n",
        "\n",
        "# Run regresion\n",
        "model <- lm(math ~ stat+isMale+isCity, data = grade)"
      ],
      "metadata": {
        "id": "XvM3Uy-jB9WR"
      },
      "execution_count": 1,
      "outputs": []
    },
    {
      "cell_type": "code",
      "source": [
        "# Graph\n",
        "library(ggplot2)\n",
        "pdf(\"figure01.pdf\", width=6, height=3)   # inches\n",
        "ggplot(grade, aes(x = stat, y = math)) + geom_point()\n",
        "dev.off()"
      ],
      "metadata": {
        "id": "CKBcHlquDCrV"
      },
      "execution_count": null,
      "outputs": []
    },
    {
      "cell_type": "code",
      "source": [
        "install.packages(\"stargazer\")\n",
        "install.packages(\"texreg\")\n",
        "\n",
        "# Table with Stargazer\n",
        "library(stargazer)\n",
        "stargazer(model, type = \"latex\", out = \"math_stat_stargazer.tex\")\n",
        "\n",
        "# Table with texreg\n",
        "library(texreg)\n",
        "texreg(model, file = \"math_stat_texreg.tex\")"
      ],
      "metadata": {
        "id": "3eZzlu6WDE-H"
      },
      "execution_count": null,
      "outputs": []
    },
    {
      "cell_type": "markdown",
      "source": [
        "$\\rightarrow$ Click on the folder symbol in the left toolbar and you find the files. To download, click on the three dots on the right of each file."
      ],
      "metadata": {
        "id": "nvgHuZAkDYbN"
      }
    }
  ]
}
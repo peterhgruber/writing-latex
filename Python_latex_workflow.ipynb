{
  "nbformat": 4,
  "nbformat_minor": 0,
  "metadata": {
    "colab": {
      "provenance": [],
      "authorship_tag": "ABX9TyNOSsP/A3O58NmFYM6h7gFa",
      "include_colab_link": true
    },
    "kernelspec": {
      "name": "python3",
      "display_name": "Python 3"
    },
    "language_info": {
      "name": "python"
    }
  },
  "cells": [
    {
      "cell_type": "markdown",
      "metadata": {
        "id": "view-in-github",
        "colab_type": "text"
      },
      "source": [
        "<a href=\"https://colab.research.google.com/github/peterhgruber/writing-latex/blob/main/Python_latex_workflow.ipynb\" target=\"_parent\"><img src=\"https://colab.research.google.com/assets/colab-badge.svg\" alt=\"Open In Colab\"/></a>"
      ]
    },
    {
      "cell_type": "markdown",
      "source": [
        "# Better and Faster Academic Writing with LaTeX and ChatGPT\n",
        "\n",
        "peter.gruber@usi.ch, 2025-04\n",
        "\n",
        "* Sample code for research workflow with Python\n",
        "  * Create a PDF image\n",
        "  * Create a table of all regression results\n",
        "  * Create a table of selected regression results"
      ],
      "metadata": {
        "id": "6BjwN51iEWdT"
      }
    },
    {
      "cell_type": "code",
      "execution_count": null,
      "metadata": {
        "id": "6McfxjgXERiG"
      },
      "outputs": [],
      "source": [
        "import pandas as pd\n",
        "import statsmodels.formula.api as smf\n",
        "\n",
        "# Read data\n",
        "urlfile = 'https://raw.githubusercontent.com/peterhgruber/writing-latex/refs/heads/main/student.csv'\n",
        "grade = pd.read_csv(urlfile)\n",
        "\n",
        "# Run regression\n",
        "model = smf.ols(formula='math ~ stat + isMale + isCity', data=grade).fit()"
      ]
    },
    {
      "cell_type": "code",
      "source": [
        "# Table of everything\n",
        "from statsmodels.iolib.summary2 import summary_col\n",
        "\n",
        "# Create a compact summary\n",
        "summary = summary_col([model], stars=True, model_names=[\"OLS Model\"])\n",
        "\n",
        "# Export to LaTeX\n",
        "with open(\"math_stat_python_all.tex\", \"w\") as f:\n",
        "    f.write(summary.as_latex())"
      ],
      "metadata": {
        "id": "uPJVgo5WFJYk"
      },
      "execution_count": null,
      "outputs": []
    },
    {
      "cell_type": "code",
      "source": [
        "# Table of selected columns (more control)\n",
        "import pandas as pd\n",
        "\n",
        "# Extract parameters manually\n",
        "results = pd.DataFrame({\n",
        "    'Coefficient': model.params,\n",
        "    'Std. Error': model.bse,\n",
        "    't-Statistic': model.tvalues,\n",
        "    'P-Value': model.pvalues\n",
        "})\n",
        "\n",
        "# Convert to LaTeX\n",
        "latex_table = results.to_latex(\n",
        "    index=True,\n",
        "    caption=\"Regression Parameters\",\n",
        "    label=\"tab:regression_parameters\",\n",
        "    float_format=lambda x: f\"{x:.4f}\"\n",
        "    )\n",
        "\n",
        "# Save to file\n",
        "with open(\"math_stat_python_selected.tex\", \"w\") as f:\n",
        "    f.write(latex_table)"
      ],
      "metadata": {
        "id": "n0ojU3mtFz1e"
      },
      "execution_count": null,
      "outputs": []
    },
    {
      "cell_type": "code",
      "source": [
        "import matplotlib.pyplot as plt\n",
        "\n",
        "# Create the scatterplot\n",
        "plt.figure(figsize=(8, 6))  # Adjust figure size as needed\n",
        "plt.scatter(grade['stat'], grade['math'])\n",
        "plt.xlabel('Grade in Statistics')\n",
        "plt.ylabel('Grade in Math')\n",
        "plt.title('Scatterplot of Math Grade vs. Statistics Grade')\n",
        "plt.grid(True)\n",
        "\n",
        "# Save the plot as a PDF\n",
        "plt.savefig('math_vs_stat_scatterplot.pdf')"
      ],
      "metadata": {
        "id": "ey9IIJqv6KAj"
      },
      "execution_count": null,
      "outputs": []
    },
    {
      "cell_type": "markdown",
      "source": [
        "$\\rightarrow$ Click on the folder symbol in the left toolbar and you find the files. To download, click on the three dots on the right of each file."
      ],
      "metadata": {
        "id": "8MDsf9d4G1yh"
      }
    }
  ]
}